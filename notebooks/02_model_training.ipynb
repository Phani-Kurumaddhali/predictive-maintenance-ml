{
 "cells": [
  {
   "cell_type": "markdown",
   "id": "6d0d1cc0",
   "metadata": {},
   "source": [
    "# 02 - Model Training\n",
    "\n",
    "This notebook trains a predictive maintenance model using the prepared dataset.\n",
    "\n",
    "## Steps:\n",
    "1. Load and prepare data\n",
    "2. Train RandomForest model\n",
    "3. Evaluate model"
   ]
  },
  {
   "cell_type": "code",
   "execution_count": null,
   "id": "5f7d5886",
   "metadata": {},
   "outputs": [],
   "source": [
    "\n",
    "import pandas as pd\n",
    "from src.data_preparation import load_and_prepare\n",
    "from sklearn.ensemble import RandomForestClassifier\n",
    "from sklearn.metrics import classification_report, confusion_matrix\n",
    "import joblib\n",
    "import os\n",
    "\n",
    "# Load data\n",
    "X, y, scaler = load_and_prepare('../data/sample_data.csv')\n",
    "\n",
    "# Train model\n",
    "clf = RandomForestClassifier(n_estimators=100, random_state=42)\n",
    "clf.fit(X, y)\n",
    "\n",
    "# Evaluate\n",
    "preds = clf.predict(X)\n",
    "print(\"Classification Report:\\n\", classification_report(y, preds))\n",
    "print(\"Confusion Matrix:\\n\", confusion_matrix(y, preds))\n",
    "\n",
    "# Save model\n",
    "os.makedirs('../model', exist_ok=True)\n",
    "joblib.dump({'model': clf, 'scaler': scaler}, '../model/rf_model.joblib')\n",
    "print(\"Model saved to ../model/rf_model.joblib\")\n"
   ]
  }
 ],
 "metadata": {},
 "nbformat": 4,
 "nbformat_minor": 5
}
