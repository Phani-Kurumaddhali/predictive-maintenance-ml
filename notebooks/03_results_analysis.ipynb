{
 "cells": [
  {
   "cell_type": "markdown",
   "id": "8a8813b5",
   "metadata": {},
   "source": [
    "# 03 - Results Analysis\n",
    "\n",
    "This notebook visualizes model results for predictive maintenance."
   ]
  },
  {
   "cell_type": "code",
   "execution_count": null,
   "id": "4f6e71f4",
   "metadata": {},
   "outputs": [],
   "source": [
    "\n",
    "import pandas as pd\n",
    "import seaborn as sns\n",
    "import matplotlib.pyplot as plt\n",
    "from sklearn.metrics import confusion_matrix, ConfusionMatrixDisplay, classification_report\n",
    "import joblib\n",
    "from src.data_preparation import load_and_prepare\n",
    "\n",
    "# Load data\n",
    "X, y, scaler = load_and_prepare('../data/sample_data.csv')\n",
    "\n",
    "# Load model\n",
    "model_pack = joblib.load('../model/rf_model.joblib')\n",
    "clf = model_pack['model']\n",
    "\n",
    "# Predict\n",
    "preds = clf.predict(X)\n",
    "\n",
    "# Confusion Matrix\n",
    "cm = confusion_matrix(y, preds)\n",
    "disp = ConfusionMatrixDisplay(confusion_matrix=cm)\n",
    "disp.plot(cmap='Blues')\n",
    "plt.show()\n",
    "\n",
    "# Classification Report\n",
    "print(\"Classification Report:\\n\", classification_report(y, preds))\n",
    "\n",
    "# Feature Importance\n",
    "importances = clf.feature_importances_\n",
    "features = ['usage_hours', 'temp_c', 'pressure_bar', 'vibration_g', 'rpm']\n",
    "sns.barplot(x=importances, y=features)\n",
    "plt.title(\"Feature Importances\")\n",
    "plt.show()\n"
   ]
  }
 ],
 "metadata": {},
 "nbformat": 4,
 "nbformat_minor": 5
}
